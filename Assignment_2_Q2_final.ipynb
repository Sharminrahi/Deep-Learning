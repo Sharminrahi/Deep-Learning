{
  "cells": [
    {
      "cell_type": "markdown",
      "metadata": {
        "id": "view-in-github",
        "colab_type": "text"
      },
      "source": [
        "<a href=\"https://colab.research.google.com/github/Sharminrahi/Deep-Learning/blob/main/Assignment_2_Q2_final.ipynb\" target=\"_parent\"><img src=\"https://colab.research.google.com/assets/colab-badge.svg\" alt=\"Open In Colab\"/></a>"
      ]
    },
    {
      "cell_type": "markdown",
      "metadata": {
        "id": "IrP72lJ6gBjO"
      },
      "source": [
        "# Question 1\n",
        "**Download the St. John's temperature dataset from Brightspace. This dataset records hourly reanalysis data of the two-meter temperature near St. John's, NL from 2011{2020(10 years). The goal is to develop a feedforward neural network to predict the temperature for the next 6 hours.**"
      ]
    },
    {
      "cell_type": "code",
      "execution_count": null,
      "metadata": {
        "colab": {
          "base_uri": "https://localhost:8080/"
        },
        "id": "r7a2ysa2Z0i4",
        "outputId": "48e7f77e-bd5d-4cb7-e33b-abd96d05abaa"
      },
      "outputs": [
        {
          "output_type": "stream",
          "name": "stdout",
          "text": [
            "Looking in indexes: https://pypi.org/simple, https://us-python.pkg.dev/colab-wheels/public/simple/\n",
            "Requirement already satisfied: netCDF4 in /usr/local/lib/python3.8/dist-packages (1.6.2)\n",
            "Requirement already satisfied: cftime in /usr/local/lib/python3.8/dist-packages (from netCDF4) (1.6.2)\n",
            "Requirement already satisfied: numpy>=1.9 in /usr/local/lib/python3.8/dist-packages (from netCDF4) (1.22.4)\n"
          ]
        }
      ],
      "source": [
        "!pip install netCDF4"
      ]
    },
    {
      "cell_type": "code",
      "execution_count": null,
      "metadata": {
        "id": "abWQEI3uGpsN"
      },
      "outputs": [],
      "source": [
        "import numpy as np\n",
        "import netCDF4 as nc\n",
        "from netCDF4 import Dataset\n",
        "import xarray as xr\n",
        "import pandas as pd\n",
        "import matplotlib.pyplot as plt\n",
        "from sklearn.preprocessing import LabelEncoder\n",
        "from google.colab import drive\n",
        "from matplotlib.pyplot import figure\n",
        "import seaborn as sns\n",
        "import tensorflow as tf"
      ]
    },
    {
      "cell_type": "code",
      "execution_count": null,
      "metadata": {
        "colab": {
          "base_uri": "https://localhost:8080/"
        },
        "id": "-pp3HSp3e_C7",
        "outputId": "d8f7d183-2774-4203-ae2b-35a9b25bb638"
      },
      "outputs": [
        {
          "output_type": "stream",
          "name": "stdout",
          "text": [
            "Mounted at /content/drive\n"
          ]
        }
      ],
      "source": [
        "#Mount drive\n",
        "drive.mount(\"/content/drive\")"
      ]
    },
    {
      "cell_type": "code",
      "execution_count": null,
      "metadata": {
        "colab": {
          "base_uri": "https://localhost:8080/"
        },
        "id": "knDiwNo-fF28",
        "outputId": "548d09ac-53d3-4d9f-da1f-ac566c6a0fcf"
      },
      "outputs": [
        {
          "output_type": "stream",
          "name": "stdout",
          "text": [
            "<class 'netCDF4._netCDF4.Dataset'>\n",
            "root group (NETCDF3_64BIT_OFFSET data model, file format NETCDF3):\n",
            "    Conventions: CF-1.6\n",
            "    history: 2021-02-03 00:49:51 GMT by grib_to_netcdf-2.16.0: /opt/ecmwf/eccodes/bin/grib_to_netcdf -S param -o /cache/data2/adaptor.mars.internal-1612306467.0641284-4955-27-685dbd6e-9572-4267-a9a7-5a61b7e919e4.nc /cache/tmp/685dbd6e-9572-4267-a9a7-5a61b7e919e4-adaptor.mars.internal-1612306467.0646257-4955-9-tmp.grib\n",
            "    dimensions(sizes): longitude(1), latitude(1), expver(2), time(87672)\n",
            "    variables(dimensions): float32 longitude(longitude), float32 latitude(latitude), int32 expver(expver), int32 time(time), int16 t2m(time, expver, latitude, longitude)\n",
            "    groups: \n"
          ]
        }
      ],
      "source": [
        "from pickle import TRUE\n",
        "df = Dataset('/content/drive/MyDrive/tempStJohns_v2.nc')\n",
        "\n",
        "# Reading dataset \n",
        "#df = nc.Dataset(file_path, 'r')\n",
        "print(df)"
      ]
    },
    {
      "cell_type": "code",
      "execution_count": null,
      "metadata": {
        "colab": {
          "base_uri": "https://localhost:8080/"
        },
        "id": "-paUOkVhBCKK",
        "outputId": "24a61498-f34a-4db0-de18-429ce32c34e8"
      },
      "outputs": [
        {
          "output_type": "execute_result",
          "data": {
            "text/plain": [
              "{'longitude': <class 'netCDF4._netCDF4.Dimension'>: name = 'longitude', size = 1,\n",
              " 'latitude': <class 'netCDF4._netCDF4.Dimension'>: name = 'latitude', size = 1,\n",
              " 'expver': <class 'netCDF4._netCDF4.Dimension'>: name = 'expver', size = 2,\n",
              " 'time': <class 'netCDF4._netCDF4.Dimension'>: name = 'time', size = 87672}"
            ]
          },
          "metadata": {},
          "execution_count": 5
        }
      ],
      "source": [
        "df.dimensions"
      ]
    },
    {
      "cell_type": "code",
      "execution_count": null,
      "metadata": {
        "colab": {
          "base_uri": "https://localhost:8080/"
        },
        "id": "YccycviLCRsr",
        "outputId": "0446c099-6867-4514-de94-988cfb1645b9"
      },
      "outputs": [
        {
          "output_type": "stream",
          "name": "stdout",
          "text": [
            "longitude 1\n",
            "latitude 1\n",
            "expver 2\n",
            "time 87672\n"
          ]
        }
      ],
      "source": [
        "for dimname in df.dimensions:\n",
        "  dim = df.dimensions[dimname]\n",
        "  print(dimname, dim.size)"
      ]
    },
    {
      "cell_type": "code",
      "execution_count": null,
      "metadata": {
        "colab": {
          "base_uri": "https://localhost:8080/"
        },
        "id": "KsIEHRcQCkoq",
        "outputId": "ccfeae47-551a-4f56-a22c-50e1a04e936a"
      },
      "outputs": [
        {
          "output_type": "execute_result",
          "data": {
            "text/plain": [
              "<class 'netCDF4._netCDF4.Variable'>\n",
              "int16 t2m(time, expver, latitude, longitude)\n",
              "    scale_factor: 0.000644746879673218\n",
              "    add_offset: 277.6509227437477\n",
              "    _FillValue: -32767\n",
              "    missing_value: -32767\n",
              "    units: K\n",
              "    long_name: 2 metre temperature\n",
              "unlimited dimensions: \n",
              "current shape = (87672, 2, 1, 1)\n",
              "filling on"
            ]
          },
          "metadata": {},
          "execution_count": 7
        }
      ],
      "source": [
        "var = df.variables['t2m']\n",
        "var"
      ]
    },
    {
      "cell_type": "code",
      "execution_count": null,
      "metadata": {
        "colab": {
          "base_uri": "https://localhost:8080/"
        },
        "id": "nIjjAS3Ahrgf",
        "outputId": "ebdbbf42-221f-45ec-ffbe-77fe5b5d1b71"
      },
      "outputs": [
        {
          "output_type": "stream",
          "name": "stdout",
          "text": [
            "{'Conventions': 'CF-1.6', 'history': '2021-02-03 00:49:51 GMT by grib_to_netcdf-2.16.0: /opt/ecmwf/eccodes/bin/grib_to_netcdf -S param -o /cache/data2/adaptor.mars.internal-1612306467.0641284-4955-27-685dbd6e-9572-4267-a9a7-5a61b7e919e4.nc /cache/tmp/685dbd6e-9572-4267-a9a7-5a61b7e919e4-adaptor.mars.internal-1612306467.0646257-4955-9-tmp.grib'}\n"
          ]
        }
      ],
      "source": [
        "print(df.__dict__)\n"
      ]
    },
    {
      "cell_type": "code",
      "execution_count": null,
      "metadata": {
        "colab": {
          "base_uri": "https://localhost:8080/"
        },
        "id": "B8nwp_Iuf9-S",
        "outputId": "08fdbc65-d93c-496e-f105-71ee991bbb25"
      },
      "outputs": [
        {
          "output_type": "stream",
          "name": "stdout",
          "text": [
            "dict_keys(['longitude', 'latitude', 'expver', 'time', 't2m'])\n"
          ]
        }
      ],
      "source": [
        "print(df.variables.keys())"
      ]
    },
    {
      "cell_type": "code",
      "execution_count": null,
      "metadata": {
        "id": "XBtDADEVirUN"
      },
      "outputs": [],
      "source": [
        "import xarray as xr\n",
        "\n",
        "# Open the netCDF file\n",
        "df1 = xr.open_dataset('/content/drive/MyDrive/tempStJohns_v2.nc')\n",
        "\n",
        "# Convert the xarray.Dataset to a pandas DataFrame\n",
        "df1 = df1.to_dataframe()\n",
        "\n",
        "# Save the DataFrame to a CSV file\n",
        "df1.to_csv('file_output.csv')"
      ]
    },
    {
      "cell_type": "code",
      "execution_count": null,
      "metadata": {
        "colab": {
          "base_uri": "https://localhost:8080/",
          "height": 424
        },
        "id": "2FY9llpgla8b",
        "outputId": "f3e763cd-756c-4404-dc55-1ccd9b84a953"
      },
      "outputs": [
        {
          "output_type": "execute_result",
          "data": {
            "text/plain": [
              "        longitude   latitude  expver                 time        t2m\n",
              "0          -52.75  47.599998       1  2011-01-01 00:00:00  272.81080\n",
              "1          -52.75  47.599998       1  2011-01-01 01:00:00  272.65670\n",
              "2          -52.75  47.599998       1  2011-01-01 02:00:00  272.78372\n",
              "3          -52.75  47.599998       1  2011-01-01 03:00:00  272.97714\n",
              "4          -52.75  47.599998       1  2011-01-01 04:00:00  272.88430\n",
              "...           ...        ...     ...                  ...        ...\n",
              "175339     -52.75  47.599998       5  2020-12-31 19:00:00  273.61737\n",
              "175340     -52.75  47.599998       5  2020-12-31 20:00:00  273.79340\n",
              "175341     -52.75  47.599998       5  2020-12-31 21:00:00  273.88623\n",
              "175342     -52.75  47.599998       5  2020-12-31 22:00:00  274.65670\n",
              "175343     -52.75  47.599998       5  2020-12-31 23:00:00  274.85657\n",
              "\n",
              "[175344 rows x 5 columns]"
            ],
            "text/html": [
              "\n",
              "  <div id=\"df-212c52ff-3b43-410d-adae-9d85e71d5bbf\">\n",
              "    <div class=\"colab-df-container\">\n",
              "      <div>\n",
              "<style scoped>\n",
              "    .dataframe tbody tr th:only-of-type {\n",
              "        vertical-align: middle;\n",
              "    }\n",
              "\n",
              "    .dataframe tbody tr th {\n",
              "        vertical-align: top;\n",
              "    }\n",
              "\n",
              "    .dataframe thead th {\n",
              "        text-align: right;\n",
              "    }\n",
              "</style>\n",
              "<table border=\"1\" class=\"dataframe\">\n",
              "  <thead>\n",
              "    <tr style=\"text-align: right;\">\n",
              "      <th></th>\n",
              "      <th>longitude</th>\n",
              "      <th>latitude</th>\n",
              "      <th>expver</th>\n",
              "      <th>time</th>\n",
              "      <th>t2m</th>\n",
              "    </tr>\n",
              "  </thead>\n",
              "  <tbody>\n",
              "    <tr>\n",
              "      <th>0</th>\n",
              "      <td>-52.75</td>\n",
              "      <td>47.599998</td>\n",
              "      <td>1</td>\n",
              "      <td>2011-01-01 00:00:00</td>\n",
              "      <td>272.81080</td>\n",
              "    </tr>\n",
              "    <tr>\n",
              "      <th>1</th>\n",
              "      <td>-52.75</td>\n",
              "      <td>47.599998</td>\n",
              "      <td>1</td>\n",
              "      <td>2011-01-01 01:00:00</td>\n",
              "      <td>272.65670</td>\n",
              "    </tr>\n",
              "    <tr>\n",
              "      <th>2</th>\n",
              "      <td>-52.75</td>\n",
              "      <td>47.599998</td>\n",
              "      <td>1</td>\n",
              "      <td>2011-01-01 02:00:00</td>\n",
              "      <td>272.78372</td>\n",
              "    </tr>\n",
              "    <tr>\n",
              "      <th>3</th>\n",
              "      <td>-52.75</td>\n",
              "      <td>47.599998</td>\n",
              "      <td>1</td>\n",
              "      <td>2011-01-01 03:00:00</td>\n",
              "      <td>272.97714</td>\n",
              "    </tr>\n",
              "    <tr>\n",
              "      <th>4</th>\n",
              "      <td>-52.75</td>\n",
              "      <td>47.599998</td>\n",
              "      <td>1</td>\n",
              "      <td>2011-01-01 04:00:00</td>\n",
              "      <td>272.88430</td>\n",
              "    </tr>\n",
              "    <tr>\n",
              "      <th>...</th>\n",
              "      <td>...</td>\n",
              "      <td>...</td>\n",
              "      <td>...</td>\n",
              "      <td>...</td>\n",
              "      <td>...</td>\n",
              "    </tr>\n",
              "    <tr>\n",
              "      <th>175339</th>\n",
              "      <td>-52.75</td>\n",
              "      <td>47.599998</td>\n",
              "      <td>5</td>\n",
              "      <td>2020-12-31 19:00:00</td>\n",
              "      <td>273.61737</td>\n",
              "    </tr>\n",
              "    <tr>\n",
              "      <th>175340</th>\n",
              "      <td>-52.75</td>\n",
              "      <td>47.599998</td>\n",
              "      <td>5</td>\n",
              "      <td>2020-12-31 20:00:00</td>\n",
              "      <td>273.79340</td>\n",
              "    </tr>\n",
              "    <tr>\n",
              "      <th>175341</th>\n",
              "      <td>-52.75</td>\n",
              "      <td>47.599998</td>\n",
              "      <td>5</td>\n",
              "      <td>2020-12-31 21:00:00</td>\n",
              "      <td>273.88623</td>\n",
              "    </tr>\n",
              "    <tr>\n",
              "      <th>175342</th>\n",
              "      <td>-52.75</td>\n",
              "      <td>47.599998</td>\n",
              "      <td>5</td>\n",
              "      <td>2020-12-31 22:00:00</td>\n",
              "      <td>274.65670</td>\n",
              "    </tr>\n",
              "    <tr>\n",
              "      <th>175343</th>\n",
              "      <td>-52.75</td>\n",
              "      <td>47.599998</td>\n",
              "      <td>5</td>\n",
              "      <td>2020-12-31 23:00:00</td>\n",
              "      <td>274.85657</td>\n",
              "    </tr>\n",
              "  </tbody>\n",
              "</table>\n",
              "<p>175344 rows × 5 columns</p>\n",
              "</div>\n",
              "      <button class=\"colab-df-convert\" onclick=\"convertToInteractive('df-212c52ff-3b43-410d-adae-9d85e71d5bbf')\"\n",
              "              title=\"Convert this dataframe to an interactive table.\"\n",
              "              style=\"display:none;\">\n",
              "        \n",
              "  <svg xmlns=\"http://www.w3.org/2000/svg\" height=\"24px\"viewBox=\"0 0 24 24\"\n",
              "       width=\"24px\">\n",
              "    <path d=\"M0 0h24v24H0V0z\" fill=\"none\"/>\n",
              "    <path d=\"M18.56 5.44l.94 2.06.94-2.06 2.06-.94-2.06-.94-.94-2.06-.94 2.06-2.06.94zm-11 1L8.5 8.5l.94-2.06 2.06-.94-2.06-.94L8.5 2.5l-.94 2.06-2.06.94zm10 10l.94 2.06.94-2.06 2.06-.94-2.06-.94-.94-2.06-.94 2.06-2.06.94z\"/><path d=\"M17.41 7.96l-1.37-1.37c-.4-.4-.92-.59-1.43-.59-.52 0-1.04.2-1.43.59L10.3 9.45l-7.72 7.72c-.78.78-.78 2.05 0 2.83L4 21.41c.39.39.9.59 1.41.59.51 0 1.02-.2 1.41-.59l7.78-7.78 2.81-2.81c.8-.78.8-2.07 0-2.86zM5.41 20L4 18.59l7.72-7.72 1.47 1.35L5.41 20z\"/>\n",
              "  </svg>\n",
              "      </button>\n",
              "      \n",
              "  <style>\n",
              "    .colab-df-container {\n",
              "      display:flex;\n",
              "      flex-wrap:wrap;\n",
              "      gap: 12px;\n",
              "    }\n",
              "\n",
              "    .colab-df-convert {\n",
              "      background-color: #E8F0FE;\n",
              "      border: none;\n",
              "      border-radius: 50%;\n",
              "      cursor: pointer;\n",
              "      display: none;\n",
              "      fill: #1967D2;\n",
              "      height: 32px;\n",
              "      padding: 0 0 0 0;\n",
              "      width: 32px;\n",
              "    }\n",
              "\n",
              "    .colab-df-convert:hover {\n",
              "      background-color: #E2EBFA;\n",
              "      box-shadow: 0px 1px 2px rgba(60, 64, 67, 0.3), 0px 1px 3px 1px rgba(60, 64, 67, 0.15);\n",
              "      fill: #174EA6;\n",
              "    }\n",
              "\n",
              "    [theme=dark] .colab-df-convert {\n",
              "      background-color: #3B4455;\n",
              "      fill: #D2E3FC;\n",
              "    }\n",
              "\n",
              "    [theme=dark] .colab-df-convert:hover {\n",
              "      background-color: #434B5C;\n",
              "      box-shadow: 0px 1px 3px 1px rgba(0, 0, 0, 0.15);\n",
              "      filter: drop-shadow(0px 1px 2px rgba(0, 0, 0, 0.3));\n",
              "      fill: #FFFFFF;\n",
              "    }\n",
              "  </style>\n",
              "\n",
              "      <script>\n",
              "        const buttonEl =\n",
              "          document.querySelector('#df-212c52ff-3b43-410d-adae-9d85e71d5bbf button.colab-df-convert');\n",
              "        buttonEl.style.display =\n",
              "          google.colab.kernel.accessAllowed ? 'block' : 'none';\n",
              "\n",
              "        async function convertToInteractive(key) {\n",
              "          const element = document.querySelector('#df-212c52ff-3b43-410d-adae-9d85e71d5bbf');\n",
              "          const dataTable =\n",
              "            await google.colab.kernel.invokeFunction('convertToInteractive',\n",
              "                                                     [key], {});\n",
              "          if (!dataTable) return;\n",
              "\n",
              "          const docLinkHtml = 'Like what you see? Visit the ' +\n",
              "            '<a target=\"_blank\" href=https://colab.research.google.com/notebooks/data_table.ipynb>data table notebook</a>'\n",
              "            + ' to learn more about interactive tables.';\n",
              "          element.innerHTML = '';\n",
              "          dataTable['output_type'] = 'display_data';\n",
              "          await google.colab.output.renderOutput(dataTable, element);\n",
              "          const docLink = document.createElement('div');\n",
              "          docLink.innerHTML = docLinkHtml;\n",
              "          element.appendChild(docLink);\n",
              "        }\n",
              "      </script>\n",
              "    </div>\n",
              "  </div>\n",
              "  "
            ]
          },
          "metadata": {},
          "execution_count": 11
        }
      ],
      "source": [
        "new_df = pd.read_csv('file_output.csv')\n",
        "new_df"
      ]
    },
    {
      "cell_type": "markdown",
      "metadata": {
        "id": "JmVZ7l5zWd8R"
      },
      "source": [
        "# Exploratory Data Analysis"
      ]
    },
    {
      "cell_type": "code",
      "execution_count": null,
      "metadata": {
        "colab": {
          "base_uri": "https://localhost:8080/"
        },
        "id": "0AMBfu17ljSD",
        "outputId": "a5b7a107-04e9-4b9e-e57c-eaeb1063f49d"
      },
      "outputs": [
        {
          "output_type": "execute_result",
          "data": {
            "text/plain": [
              "(175344, 5)"
            ]
          },
          "metadata": {},
          "execution_count": 12
        }
      ],
      "source": [
        "new_df.shape"
      ]
    },
    {
      "cell_type": "code",
      "execution_count": null,
      "metadata": {
        "colab": {
          "base_uri": "https://localhost:8080/",
          "height": 363
        },
        "id": "OZXTWw1Flng9",
        "outputId": "92bf93ef-9250-4da2-caf4-604f1d259e38"
      },
      "outputs": [
        {
          "output_type": "execute_result",
          "data": {
            "text/plain": [
              "   longitude   latitude  expver                 time        t2m\n",
              "0     -52.75  47.599998       1  2011-01-01 00:00:00  272.81080\n",
              "1     -52.75  47.599998       1  2011-01-01 01:00:00  272.65670\n",
              "2     -52.75  47.599998       1  2011-01-01 02:00:00  272.78372\n",
              "3     -52.75  47.599998       1  2011-01-01 03:00:00  272.97714\n",
              "4     -52.75  47.599998       1  2011-01-01 04:00:00  272.88430\n",
              "5     -52.75  47.599998       1  2011-01-01 05:00:00  272.71536\n",
              "6     -52.75  47.599998       1  2011-01-01 06:00:00  272.50583\n",
              "7     -52.75  47.599998       1  2011-01-01 07:00:00  272.34595\n",
              "8     -52.75  47.599998       1  2011-01-01 08:00:00  271.96487\n",
              "9     -52.75  47.599998       1  2011-01-01 09:00:00  272.05450"
            ],
            "text/html": [
              "\n",
              "  <div id=\"df-4fb39861-d1dc-4e79-8172-909f43babdd5\">\n",
              "    <div class=\"colab-df-container\">\n",
              "      <div>\n",
              "<style scoped>\n",
              "    .dataframe tbody tr th:only-of-type {\n",
              "        vertical-align: middle;\n",
              "    }\n",
              "\n",
              "    .dataframe tbody tr th {\n",
              "        vertical-align: top;\n",
              "    }\n",
              "\n",
              "    .dataframe thead th {\n",
              "        text-align: right;\n",
              "    }\n",
              "</style>\n",
              "<table border=\"1\" class=\"dataframe\">\n",
              "  <thead>\n",
              "    <tr style=\"text-align: right;\">\n",
              "      <th></th>\n",
              "      <th>longitude</th>\n",
              "      <th>latitude</th>\n",
              "      <th>expver</th>\n",
              "      <th>time</th>\n",
              "      <th>t2m</th>\n",
              "    </tr>\n",
              "  </thead>\n",
              "  <tbody>\n",
              "    <tr>\n",
              "      <th>0</th>\n",
              "      <td>-52.75</td>\n",
              "      <td>47.599998</td>\n",
              "      <td>1</td>\n",
              "      <td>2011-01-01 00:00:00</td>\n",
              "      <td>272.81080</td>\n",
              "    </tr>\n",
              "    <tr>\n",
              "      <th>1</th>\n",
              "      <td>-52.75</td>\n",
              "      <td>47.599998</td>\n",
              "      <td>1</td>\n",
              "      <td>2011-01-01 01:00:00</td>\n",
              "      <td>272.65670</td>\n",
              "    </tr>\n",
              "    <tr>\n",
              "      <th>2</th>\n",
              "      <td>-52.75</td>\n",
              "      <td>47.599998</td>\n",
              "      <td>1</td>\n",
              "      <td>2011-01-01 02:00:00</td>\n",
              "      <td>272.78372</td>\n",
              "    </tr>\n",
              "    <tr>\n",
              "      <th>3</th>\n",
              "      <td>-52.75</td>\n",
              "      <td>47.599998</td>\n",
              "      <td>1</td>\n",
              "      <td>2011-01-01 03:00:00</td>\n",
              "      <td>272.97714</td>\n",
              "    </tr>\n",
              "    <tr>\n",
              "      <th>4</th>\n",
              "      <td>-52.75</td>\n",
              "      <td>47.599998</td>\n",
              "      <td>1</td>\n",
              "      <td>2011-01-01 04:00:00</td>\n",
              "      <td>272.88430</td>\n",
              "    </tr>\n",
              "    <tr>\n",
              "      <th>5</th>\n",
              "      <td>-52.75</td>\n",
              "      <td>47.599998</td>\n",
              "      <td>1</td>\n",
              "      <td>2011-01-01 05:00:00</td>\n",
              "      <td>272.71536</td>\n",
              "    </tr>\n",
              "    <tr>\n",
              "      <th>6</th>\n",
              "      <td>-52.75</td>\n",
              "      <td>47.599998</td>\n",
              "      <td>1</td>\n",
              "      <td>2011-01-01 06:00:00</td>\n",
              "      <td>272.50583</td>\n",
              "    </tr>\n",
              "    <tr>\n",
              "      <th>7</th>\n",
              "      <td>-52.75</td>\n",
              "      <td>47.599998</td>\n",
              "      <td>1</td>\n",
              "      <td>2011-01-01 07:00:00</td>\n",
              "      <td>272.34595</td>\n",
              "    </tr>\n",
              "    <tr>\n",
              "      <th>8</th>\n",
              "      <td>-52.75</td>\n",
              "      <td>47.599998</td>\n",
              "      <td>1</td>\n",
              "      <td>2011-01-01 08:00:00</td>\n",
              "      <td>271.96487</td>\n",
              "    </tr>\n",
              "    <tr>\n",
              "      <th>9</th>\n",
              "      <td>-52.75</td>\n",
              "      <td>47.599998</td>\n",
              "      <td>1</td>\n",
              "      <td>2011-01-01 09:00:00</td>\n",
              "      <td>272.05450</td>\n",
              "    </tr>\n",
              "  </tbody>\n",
              "</table>\n",
              "</div>\n",
              "      <button class=\"colab-df-convert\" onclick=\"convertToInteractive('df-4fb39861-d1dc-4e79-8172-909f43babdd5')\"\n",
              "              title=\"Convert this dataframe to an interactive table.\"\n",
              "              style=\"display:none;\">\n",
              "        \n",
              "  <svg xmlns=\"http://www.w3.org/2000/svg\" height=\"24px\"viewBox=\"0 0 24 24\"\n",
              "       width=\"24px\">\n",
              "    <path d=\"M0 0h24v24H0V0z\" fill=\"none\"/>\n",
              "    <path d=\"M18.56 5.44l.94 2.06.94-2.06 2.06-.94-2.06-.94-.94-2.06-.94 2.06-2.06.94zm-11 1L8.5 8.5l.94-2.06 2.06-.94-2.06-.94L8.5 2.5l-.94 2.06-2.06.94zm10 10l.94 2.06.94-2.06 2.06-.94-2.06-.94-.94-2.06-.94 2.06-2.06.94z\"/><path d=\"M17.41 7.96l-1.37-1.37c-.4-.4-.92-.59-1.43-.59-.52 0-1.04.2-1.43.59L10.3 9.45l-7.72 7.72c-.78.78-.78 2.05 0 2.83L4 21.41c.39.39.9.59 1.41.59.51 0 1.02-.2 1.41-.59l7.78-7.78 2.81-2.81c.8-.78.8-2.07 0-2.86zM5.41 20L4 18.59l7.72-7.72 1.47 1.35L5.41 20z\"/>\n",
              "  </svg>\n",
              "      </button>\n",
              "      \n",
              "  <style>\n",
              "    .colab-df-container {\n",
              "      display:flex;\n",
              "      flex-wrap:wrap;\n",
              "      gap: 12px;\n",
              "    }\n",
              "\n",
              "    .colab-df-convert {\n",
              "      background-color: #E8F0FE;\n",
              "      border: none;\n",
              "      border-radius: 50%;\n",
              "      cursor: pointer;\n",
              "      display: none;\n",
              "      fill: #1967D2;\n",
              "      height: 32px;\n",
              "      padding: 0 0 0 0;\n",
              "      width: 32px;\n",
              "    }\n",
              "\n",
              "    .colab-df-convert:hover {\n",
              "      background-color: #E2EBFA;\n",
              "      box-shadow: 0px 1px 2px rgba(60, 64, 67, 0.3), 0px 1px 3px 1px rgba(60, 64, 67, 0.15);\n",
              "      fill: #174EA6;\n",
              "    }\n",
              "\n",
              "    [theme=dark] .colab-df-convert {\n",
              "      background-color: #3B4455;\n",
              "      fill: #D2E3FC;\n",
              "    }\n",
              "\n",
              "    [theme=dark] .colab-df-convert:hover {\n",
              "      background-color: #434B5C;\n",
              "      box-shadow: 0px 1px 3px 1px rgba(0, 0, 0, 0.15);\n",
              "      filter: drop-shadow(0px 1px 2px rgba(0, 0, 0, 0.3));\n",
              "      fill: #FFFFFF;\n",
              "    }\n",
              "  </style>\n",
              "\n",
              "      <script>\n",
              "        const buttonEl =\n",
              "          document.querySelector('#df-4fb39861-d1dc-4e79-8172-909f43babdd5 button.colab-df-convert');\n",
              "        buttonEl.style.display =\n",
              "          google.colab.kernel.accessAllowed ? 'block' : 'none';\n",
              "\n",
              "        async function convertToInteractive(key) {\n",
              "          const element = document.querySelector('#df-4fb39861-d1dc-4e79-8172-909f43babdd5');\n",
              "          const dataTable =\n",
              "            await google.colab.kernel.invokeFunction('convertToInteractive',\n",
              "                                                     [key], {});\n",
              "          if (!dataTable) return;\n",
              "\n",
              "          const docLinkHtml = 'Like what you see? Visit the ' +\n",
              "            '<a target=\"_blank\" href=https://colab.research.google.com/notebooks/data_table.ipynb>data table notebook</a>'\n",
              "            + ' to learn more about interactive tables.';\n",
              "          element.innerHTML = '';\n",
              "          dataTable['output_type'] = 'display_data';\n",
              "          await google.colab.output.renderOutput(dataTable, element);\n",
              "          const docLink = document.createElement('div');\n",
              "          docLink.innerHTML = docLinkHtml;\n",
              "          element.appendChild(docLink);\n",
              "        }\n",
              "      </script>\n",
              "    </div>\n",
              "  </div>\n",
              "  "
            ]
          },
          "metadata": {},
          "execution_count": 13
        }
      ],
      "source": [
        "new_df.head(10)"
      ]
    },
    {
      "cell_type": "code",
      "execution_count": null,
      "metadata": {
        "colab": {
          "base_uri": "https://localhost:8080/",
          "height": 206
        },
        "id": "kNeWvGL2ltkO",
        "outputId": "bcbcf961-3595-45a5-b091-1dd3b1e2b255"
      },
      "outputs": [
        {
          "output_type": "execute_result",
          "data": {
            "text/plain": [
              "        longitude   latitude  expver                 time        t2m\n",
              "175339     -52.75  47.599998       5  2020-12-31 19:00:00  273.61737\n",
              "175340     -52.75  47.599998       5  2020-12-31 20:00:00  273.79340\n",
              "175341     -52.75  47.599998       5  2020-12-31 21:00:00  273.88623\n",
              "175342     -52.75  47.599998       5  2020-12-31 22:00:00  274.65670\n",
              "175343     -52.75  47.599998       5  2020-12-31 23:00:00  274.85657"
            ],
            "text/html": [
              "\n",
              "  <div id=\"df-58a749fb-464a-4502-b7f0-aa1f54a69daa\">\n",
              "    <div class=\"colab-df-container\">\n",
              "      <div>\n",
              "<style scoped>\n",
              "    .dataframe tbody tr th:only-of-type {\n",
              "        vertical-align: middle;\n",
              "    }\n",
              "\n",
              "    .dataframe tbody tr th {\n",
              "        vertical-align: top;\n",
              "    }\n",
              "\n",
              "    .dataframe thead th {\n",
              "        text-align: right;\n",
              "    }\n",
              "</style>\n",
              "<table border=\"1\" class=\"dataframe\">\n",
              "  <thead>\n",
              "    <tr style=\"text-align: right;\">\n",
              "      <th></th>\n",
              "      <th>longitude</th>\n",
              "      <th>latitude</th>\n",
              "      <th>expver</th>\n",
              "      <th>time</th>\n",
              "      <th>t2m</th>\n",
              "    </tr>\n",
              "  </thead>\n",
              "  <tbody>\n",
              "    <tr>\n",
              "      <th>175339</th>\n",
              "      <td>-52.75</td>\n",
              "      <td>47.599998</td>\n",
              "      <td>5</td>\n",
              "      <td>2020-12-31 19:00:00</td>\n",
              "      <td>273.61737</td>\n",
              "    </tr>\n",
              "    <tr>\n",
              "      <th>175340</th>\n",
              "      <td>-52.75</td>\n",
              "      <td>47.599998</td>\n",
              "      <td>5</td>\n",
              "      <td>2020-12-31 20:00:00</td>\n",
              "      <td>273.79340</td>\n",
              "    </tr>\n",
              "    <tr>\n",
              "      <th>175341</th>\n",
              "      <td>-52.75</td>\n",
              "      <td>47.599998</td>\n",
              "      <td>5</td>\n",
              "      <td>2020-12-31 21:00:00</td>\n",
              "      <td>273.88623</td>\n",
              "    </tr>\n",
              "    <tr>\n",
              "      <th>175342</th>\n",
              "      <td>-52.75</td>\n",
              "      <td>47.599998</td>\n",
              "      <td>5</td>\n",
              "      <td>2020-12-31 22:00:00</td>\n",
              "      <td>274.65670</td>\n",
              "    </tr>\n",
              "    <tr>\n",
              "      <th>175343</th>\n",
              "      <td>-52.75</td>\n",
              "      <td>47.599998</td>\n",
              "      <td>5</td>\n",
              "      <td>2020-12-31 23:00:00</td>\n",
              "      <td>274.85657</td>\n",
              "    </tr>\n",
              "  </tbody>\n",
              "</table>\n",
              "</div>\n",
              "      <button class=\"colab-df-convert\" onclick=\"convertToInteractive('df-58a749fb-464a-4502-b7f0-aa1f54a69daa')\"\n",
              "              title=\"Convert this dataframe to an interactive table.\"\n",
              "              style=\"display:none;\">\n",
              "        \n",
              "  <svg xmlns=\"http://www.w3.org/2000/svg\" height=\"24px\"viewBox=\"0 0 24 24\"\n",
              "       width=\"24px\">\n",
              "    <path d=\"M0 0h24v24H0V0z\" fill=\"none\"/>\n",
              "    <path d=\"M18.56 5.44l.94 2.06.94-2.06 2.06-.94-2.06-.94-.94-2.06-.94 2.06-2.06.94zm-11 1L8.5 8.5l.94-2.06 2.06-.94-2.06-.94L8.5 2.5l-.94 2.06-2.06.94zm10 10l.94 2.06.94-2.06 2.06-.94-2.06-.94-.94-2.06-.94 2.06-2.06.94z\"/><path d=\"M17.41 7.96l-1.37-1.37c-.4-.4-.92-.59-1.43-.59-.52 0-1.04.2-1.43.59L10.3 9.45l-7.72 7.72c-.78.78-.78 2.05 0 2.83L4 21.41c.39.39.9.59 1.41.59.51 0 1.02-.2 1.41-.59l7.78-7.78 2.81-2.81c.8-.78.8-2.07 0-2.86zM5.41 20L4 18.59l7.72-7.72 1.47 1.35L5.41 20z\"/>\n",
              "  </svg>\n",
              "      </button>\n",
              "      \n",
              "  <style>\n",
              "    .colab-df-container {\n",
              "      display:flex;\n",
              "      flex-wrap:wrap;\n",
              "      gap: 12px;\n",
              "    }\n",
              "\n",
              "    .colab-df-convert {\n",
              "      background-color: #E8F0FE;\n",
              "      border: none;\n",
              "      border-radius: 50%;\n",
              "      cursor: pointer;\n",
              "      display: none;\n",
              "      fill: #1967D2;\n",
              "      height: 32px;\n",
              "      padding: 0 0 0 0;\n",
              "      width: 32px;\n",
              "    }\n",
              "\n",
              "    .colab-df-convert:hover {\n",
              "      background-color: #E2EBFA;\n",
              "      box-shadow: 0px 1px 2px rgba(60, 64, 67, 0.3), 0px 1px 3px 1px rgba(60, 64, 67, 0.15);\n",
              "      fill: #174EA6;\n",
              "    }\n",
              "\n",
              "    [theme=dark] .colab-df-convert {\n",
              "      background-color: #3B4455;\n",
              "      fill: #D2E3FC;\n",
              "    }\n",
              "\n",
              "    [theme=dark] .colab-df-convert:hover {\n",
              "      background-color: #434B5C;\n",
              "      box-shadow: 0px 1px 3px 1px rgba(0, 0, 0, 0.15);\n",
              "      filter: drop-shadow(0px 1px 2px rgba(0, 0, 0, 0.3));\n",
              "      fill: #FFFFFF;\n",
              "    }\n",
              "  </style>\n",
              "\n",
              "      <script>\n",
              "        const buttonEl =\n",
              "          document.querySelector('#df-58a749fb-464a-4502-b7f0-aa1f54a69daa button.colab-df-convert');\n",
              "        buttonEl.style.display =\n",
              "          google.colab.kernel.accessAllowed ? 'block' : 'none';\n",
              "\n",
              "        async function convertToInteractive(key) {\n",
              "          const element = document.querySelector('#df-58a749fb-464a-4502-b7f0-aa1f54a69daa');\n",
              "          const dataTable =\n",
              "            await google.colab.kernel.invokeFunction('convertToInteractive',\n",
              "                                                     [key], {});\n",
              "          if (!dataTable) return;\n",
              "\n",
              "          const docLinkHtml = 'Like what you see? Visit the ' +\n",
              "            '<a target=\"_blank\" href=https://colab.research.google.com/notebooks/data_table.ipynb>data table notebook</a>'\n",
              "            + ' to learn more about interactive tables.';\n",
              "          element.innerHTML = '';\n",
              "          dataTable['output_type'] = 'display_data';\n",
              "          await google.colab.output.renderOutput(dataTable, element);\n",
              "          const docLink = document.createElement('div');\n",
              "          docLink.innerHTML = docLinkHtml;\n",
              "          element.appendChild(docLink);\n",
              "        }\n",
              "      </script>\n",
              "    </div>\n",
              "  </div>\n",
              "  "
            ]
          },
          "metadata": {},
          "execution_count": 14
        }
      ],
      "source": [
        "new_df.tail()"
      ]
    },
    {
      "cell_type": "code",
      "execution_count": null,
      "metadata": {
        "colab": {
          "base_uri": "https://localhost:8080/"
        },
        "id": "Fsc9vS4HSXHM",
        "outputId": "fcca8eba-99a3-4c84-87b6-25ee64d0f48b"
      },
      "outputs": [
        {
          "output_type": "execute_result",
          "data": {
            "text/plain": [
              "longitude        0\n",
              "latitude         0\n",
              "expver           0\n",
              "time             0\n",
              "t2m          87672\n",
              "dtype: int64"
            ]
          },
          "metadata": {},
          "execution_count": 15
        }
      ],
      "source": [
        "new_df.isnull().sum()"
      ]
    },
    {
      "cell_type": "code",
      "execution_count": null,
      "metadata": {
        "colab": {
          "base_uri": "https://localhost:8080/"
        },
        "id": "778BHUF1Sl5J",
        "outputId": "c76cee81-1c93-44df-ced7-838e28207566"
      },
      "outputs": [
        {
          "output_type": "stream",
          "name": "stdout",
          "text": [
            "<class 'pandas.core.frame.DataFrame'>\n",
            "RangeIndex: 175344 entries, 0 to 175343\n",
            "Data columns (total 5 columns):\n",
            " #   Column     Non-Null Count   Dtype  \n",
            "---  ------     --------------   -----  \n",
            " 0   longitude  175344 non-null  float64\n",
            " 1   latitude   175344 non-null  float64\n",
            " 2   expver     175344 non-null  int64  \n",
            " 3   time       175344 non-null  object \n",
            " 4   t2m        87672 non-null   float64\n",
            "dtypes: float64(3), int64(1), object(1)\n",
            "memory usage: 6.7+ MB\n"
          ]
        }
      ],
      "source": [
        "new_df.info()"
      ]
    },
    {
      "cell_type": "code",
      "execution_count": null,
      "metadata": {
        "id": "oWtE9ECzS21p"
      },
      "outputs": [],
      "source": [
        "new_df['time'] = pd.to_datetime(new_df['time'])"
      ]
    },
    {
      "cell_type": "code",
      "execution_count": null,
      "metadata": {
        "colab": {
          "base_uri": "https://localhost:8080/"
        },
        "id": "a9-k3z1KTDZT",
        "outputId": "79502b10-8242-44ef-d5be-c0139505499a"
      },
      "outputs": [
        {
          "output_type": "execute_result",
          "data": {
            "text/plain": [
              "0        2011-01-01 00:00:00\n",
              "1        2011-01-01 01:00:00\n",
              "2        2011-01-01 02:00:00\n",
              "3        2011-01-01 03:00:00\n",
              "4        2011-01-01 04:00:00\n",
              "                 ...        \n",
              "175339   2020-12-31 19:00:00\n",
              "175340   2020-12-31 20:00:00\n",
              "175341   2020-12-31 21:00:00\n",
              "175342   2020-12-31 22:00:00\n",
              "175343   2020-12-31 23:00:00\n",
              "Name: time, Length: 175344, dtype: datetime64[ns]"
            ]
          },
          "metadata": {},
          "execution_count": 18
        }
      ],
      "source": [
        "new_df['time']"
      ]
    },
    {
      "cell_type": "code",
      "execution_count": null,
      "metadata": {
        "colab": {
          "base_uri": "https://localhost:8080/",
          "height": 300
        },
        "id": "ZNU7WdhqTR66",
        "outputId": "565eb51c-1361-47cf-e9ef-ba363fa18138"
      },
      "outputs": [
        {
          "output_type": "execute_result",
          "data": {
            "text/plain": [
              "       longitude       latitude         expver           t2m\n",
              "count  175344.00  175344.000000  175344.000000  87672.000000\n",
              "mean      -52.75      47.599998       3.000000    278.699919\n",
              "std         0.00       0.000000       2.000006      7.733312\n",
              "min       -52.75      47.599998       1.000000    256.525150\n",
              "25%       -52.75      47.599998       1.000000    272.812572\n",
              "50%       -52.75      47.599998       3.000000    278.066130\n",
              "75%       -52.75      47.599998       5.000000    284.890140\n",
              "max       -52.75      47.599998       5.000000    298.777340"
            ],
            "text/html": [
              "\n",
              "  <div id=\"df-a8c77692-4d77-40c0-92d9-5ed1736724f9\">\n",
              "    <div class=\"colab-df-container\">\n",
              "      <div>\n",
              "<style scoped>\n",
              "    .dataframe tbody tr th:only-of-type {\n",
              "        vertical-align: middle;\n",
              "    }\n",
              "\n",
              "    .dataframe tbody tr th {\n",
              "        vertical-align: top;\n",
              "    }\n",
              "\n",
              "    .dataframe thead th {\n",
              "        text-align: right;\n",
              "    }\n",
              "</style>\n",
              "<table border=\"1\" class=\"dataframe\">\n",
              "  <thead>\n",
              "    <tr style=\"text-align: right;\">\n",
              "      <th></th>\n",
              "      <th>longitude</th>\n",
              "      <th>latitude</th>\n",
              "      <th>expver</th>\n",
              "      <th>t2m</th>\n",
              "    </tr>\n",
              "  </thead>\n",
              "  <tbody>\n",
              "    <tr>\n",
              "      <th>count</th>\n",
              "      <td>175344.00</td>\n",
              "      <td>175344.000000</td>\n",
              "      <td>175344.000000</td>\n",
              "      <td>87672.000000</td>\n",
              "    </tr>\n",
              "    <tr>\n",
              "      <th>mean</th>\n",
              "      <td>-52.75</td>\n",
              "      <td>47.599998</td>\n",
              "      <td>3.000000</td>\n",
              "      <td>278.699919</td>\n",
              "    </tr>\n",
              "    <tr>\n",
              "      <th>std</th>\n",
              "      <td>0.00</td>\n",
              "      <td>0.000000</td>\n",
              "      <td>2.000006</td>\n",
              "      <td>7.733312</td>\n",
              "    </tr>\n",
              "    <tr>\n",
              "      <th>min</th>\n",
              "      <td>-52.75</td>\n",
              "      <td>47.599998</td>\n",
              "      <td>1.000000</td>\n",
              "      <td>256.525150</td>\n",
              "    </tr>\n",
              "    <tr>\n",
              "      <th>25%</th>\n",
              "      <td>-52.75</td>\n",
              "      <td>47.599998</td>\n",
              "      <td>1.000000</td>\n",
              "      <td>272.812572</td>\n",
              "    </tr>\n",
              "    <tr>\n",
              "      <th>50%</th>\n",
              "      <td>-52.75</td>\n",
              "      <td>47.599998</td>\n",
              "      <td>3.000000</td>\n",
              "      <td>278.066130</td>\n",
              "    </tr>\n",
              "    <tr>\n",
              "      <th>75%</th>\n",
              "      <td>-52.75</td>\n",
              "      <td>47.599998</td>\n",
              "      <td>5.000000</td>\n",
              "      <td>284.890140</td>\n",
              "    </tr>\n",
              "    <tr>\n",
              "      <th>max</th>\n",
              "      <td>-52.75</td>\n",
              "      <td>47.599998</td>\n",
              "      <td>5.000000</td>\n",
              "      <td>298.777340</td>\n",
              "    </tr>\n",
              "  </tbody>\n",
              "</table>\n",
              "</div>\n",
              "      <button class=\"colab-df-convert\" onclick=\"convertToInteractive('df-a8c77692-4d77-40c0-92d9-5ed1736724f9')\"\n",
              "              title=\"Convert this dataframe to an interactive table.\"\n",
              "              style=\"display:none;\">\n",
              "        \n",
              "  <svg xmlns=\"http://www.w3.org/2000/svg\" height=\"24px\"viewBox=\"0 0 24 24\"\n",
              "       width=\"24px\">\n",
              "    <path d=\"M0 0h24v24H0V0z\" fill=\"none\"/>\n",
              "    <path d=\"M18.56 5.44l.94 2.06.94-2.06 2.06-.94-2.06-.94-.94-2.06-.94 2.06-2.06.94zm-11 1L8.5 8.5l.94-2.06 2.06-.94-2.06-.94L8.5 2.5l-.94 2.06-2.06.94zm10 10l.94 2.06.94-2.06 2.06-.94-2.06-.94-.94-2.06-.94 2.06-2.06.94z\"/><path d=\"M17.41 7.96l-1.37-1.37c-.4-.4-.92-.59-1.43-.59-.52 0-1.04.2-1.43.59L10.3 9.45l-7.72 7.72c-.78.78-.78 2.05 0 2.83L4 21.41c.39.39.9.59 1.41.59.51 0 1.02-.2 1.41-.59l7.78-7.78 2.81-2.81c.8-.78.8-2.07 0-2.86zM5.41 20L4 18.59l7.72-7.72 1.47 1.35L5.41 20z\"/>\n",
              "  </svg>\n",
              "      </button>\n",
              "      \n",
              "  <style>\n",
              "    .colab-df-container {\n",
              "      display:flex;\n",
              "      flex-wrap:wrap;\n",
              "      gap: 12px;\n",
              "    }\n",
              "\n",
              "    .colab-df-convert {\n",
              "      background-color: #E8F0FE;\n",
              "      border: none;\n",
              "      border-radius: 50%;\n",
              "      cursor: pointer;\n",
              "      display: none;\n",
              "      fill: #1967D2;\n",
              "      height: 32px;\n",
              "      padding: 0 0 0 0;\n",
              "      width: 32px;\n",
              "    }\n",
              "\n",
              "    .colab-df-convert:hover {\n",
              "      background-color: #E2EBFA;\n",
              "      box-shadow: 0px 1px 2px rgba(60, 64, 67, 0.3), 0px 1px 3px 1px rgba(60, 64, 67, 0.15);\n",
              "      fill: #174EA6;\n",
              "    }\n",
              "\n",
              "    [theme=dark] .colab-df-convert {\n",
              "      background-color: #3B4455;\n",
              "      fill: #D2E3FC;\n",
              "    }\n",
              "\n",
              "    [theme=dark] .colab-df-convert:hover {\n",
              "      background-color: #434B5C;\n",
              "      box-shadow: 0px 1px 3px 1px rgba(0, 0, 0, 0.15);\n",
              "      filter: drop-shadow(0px 1px 2px rgba(0, 0, 0, 0.3));\n",
              "      fill: #FFFFFF;\n",
              "    }\n",
              "  </style>\n",
              "\n",
              "      <script>\n",
              "        const buttonEl =\n",
              "          document.querySelector('#df-a8c77692-4d77-40c0-92d9-5ed1736724f9 button.colab-df-convert');\n",
              "        buttonEl.style.display =\n",
              "          google.colab.kernel.accessAllowed ? 'block' : 'none';\n",
              "\n",
              "        async function convertToInteractive(key) {\n",
              "          const element = document.querySelector('#df-a8c77692-4d77-40c0-92d9-5ed1736724f9');\n",
              "          const dataTable =\n",
              "            await google.colab.kernel.invokeFunction('convertToInteractive',\n",
              "                                                     [key], {});\n",
              "          if (!dataTable) return;\n",
              "\n",
              "          const docLinkHtml = 'Like what you see? Visit the ' +\n",
              "            '<a target=\"_blank\" href=https://colab.research.google.com/notebooks/data_table.ipynb>data table notebook</a>'\n",
              "            + ' to learn more about interactive tables.';\n",
              "          element.innerHTML = '';\n",
              "          dataTable['output_type'] = 'display_data';\n",
              "          await google.colab.output.renderOutput(dataTable, element);\n",
              "          const docLink = document.createElement('div');\n",
              "          docLink.innerHTML = docLinkHtml;\n",
              "          element.appendChild(docLink);\n",
              "        }\n",
              "      </script>\n",
              "    </div>\n",
              "  </div>\n",
              "  "
            ]
          },
          "metadata": {},
          "execution_count": 19
        }
      ],
      "source": [
        "new_df.describe()"
      ]
    },
    {
      "cell_type": "code",
      "execution_count": null,
      "metadata": {
        "colab": {
          "base_uri": "https://localhost:8080/"
        },
        "id": "YD8cR0ZtTcED",
        "outputId": "0f971cf7-6d0e-407d-ef7b-0b6cb871e87c"
      },
      "outputs": [
        {
          "output_type": "execute_result",
          "data": {
            "text/plain": [
              "longitude        1\n",
              "latitude         1\n",
              "expver           2\n",
              "time         87672\n",
              "t2m          39114\n",
              "dtype: int64"
            ]
          },
          "metadata": {},
          "execution_count": 20
        }
      ],
      "source": [
        "new_df.nunique()"
      ]
    },
    {
      "cell_type": "code",
      "execution_count": null,
      "metadata": {
        "colab": {
          "base_uri": "https://localhost:8080/",
          "height": 295
        },
        "id": "eLY4wPnYTl81",
        "outputId": "10dfb459-76bf-4717-a17d-8224907519a6"
      },
      "outputs": [
        {
          "output_type": "display_data",
          "data": {
            "text/plain": [
              "<Figure size 432x288 with 1 Axes>"
            ],
            "image/png": "[encoded data removed]"
          },
          "metadata": {
            "needs_background": "light"
          }
        }
      ],
      "source": [
        "import matplotlib.pyplot as plt\n",
        "\n",
        "# Get the values of t2m\n",
        "t2m_values = new_df['t2m'].dropna()\n",
        "\n",
        "# Plot the histogram\n",
        "n, bins, patches = plt.hist(t2m_values, bins=20, edgecolor='black', alpha=0.75)\n",
        "\n",
        "# Calculate the mean and median\n",
        "mean = t2m_values.mean()\n",
        "median = t2m_values.median()\n",
        "\n",
        "# Add lines for mean and median\n",
        "plt.axvline(mean, color='red', linestyle='dashed', linewidth=2, label='mean')\n",
        "plt.axvline(median, color='green', linestyle='dashed', linewidth=2, label='median')\n",
        "\n",
        "# Add legend\n",
        "plt.legend(loc='upper left')\n",
        "\n",
        "# Add title and labels\n",
        "plt.title('Histogram of t2m')\n",
        "plt.xlabel('t2m values')\n",
        "plt.ylabel('Frequency')\n",
        "\n",
        "# Show plot\n",
        "plt.show()\n"
      ]
    },
    {
      "cell_type": "code",
      "execution_count": null,
      "metadata": {
        "colab": {
          "base_uri": "https://localhost:8080/",
          "height": 335
        },
        "id": "KKZKo5RsVs5Z",
        "outputId": "5d8b84e8-9246-45ca-e550-7ecc3df25820"
      },
      "outputs": [
        {
          "output_type": "stream",
          "name": "stderr",
          "text": [
            "/usr/local/lib/python3.8/dist-packages/seaborn/distributions.py:2619: FutureWarning: `distplot` is a deprecated function and will be removed in a future version. Please adapt your code to use either `displot` (a figure-level function with similar flexibility) or `histplot` (an axes-level function for histograms).\n",
            "  warnings.warn(msg, FutureWarning)\n"
          ]
        },
        {
          "output_type": "display_data",
          "data": {
            "text/plain": [
              "<Figure size 432x288 with 1 Axes>"
            ],
            "image/png": "[encoded data removed]"
          },
          "metadata": {
            "needs_background": "light"
          }
        }
      ],
      "source": [
        "import seaborn as sns\n",
        "import matplotlib.pyplot as plt\n",
        "\n",
        "sns.distplot(new_df['t2m'].dropna(), hist=True, kde=True, rug=False)\n",
        "\n",
        "plt.show()\n"
      ]
    },
    {
      "cell_type": "code",
      "execution_count": null,
      "metadata": {
        "id": "ZL6fTfcXV5_A"
      },
      "outputs": [],
      "source": [
        "import scipy.stats as stats\n",
        "import numpy as np\n",
        "\n",
        "# calculate the CDF\n",
        "x = new_df['t2m'].dropna()\n",
        "cdf = stats.norm.cdf(x, loc=np.mean(x), scale=np.std(x))\n",
        "\n",
        "# calculate the percentage of data to the left and right of the density curve\n",
        "left = cdf[x < np.mean(x)].sum() / len(cdf)\n",
        "right = 1 - left\n"
      ]
    },
    {
      "cell_type": "code",
      "execution_count": null,
      "metadata": {
        "colab": {
          "base_uri": "https://localhost:8080/"
        },
        "id": "T1jbDA9nxJkv",
        "outputId": "5729b44f-f026-4592-a672-b047c9d15552"
      },
      "outputs": [
        {
          "output_type": "stream",
          "name": "stdout",
          "text": [
            "0.12654811785095427\n"
          ]
        }
      ],
      "source": [
        "print(left)"
      ]
    },
    {
      "cell_type": "code",
      "execution_count": null,
      "metadata": {
        "colab": {
          "base_uri": "https://localhost:8080/"
        },
        "id": "NtqtycYuWLNl",
        "outputId": "5114e186-46da-4999-cb59-506a3054c06b"
      },
      "outputs": [
        {
          "output_type": "stream",
          "name": "stdout",
          "text": [
            "0.8734518821490458\n"
          ]
        }
      ],
      "source": [
        "print(right)"
      ]
    },
    {
      "cell_type": "code",
      "execution_count": null,
      "metadata": {
        "colab": {
          "base_uri": "https://localhost:8080/"
        },
        "id": "hI0NY8ee-8ER",
        "outputId": "ba7a7d74-4f88-4790-fde4-7485c9290805"
      },
      "outputs": [
        {
          "output_type": "stream",
          "name": "stdout",
          "text": [
            "<class 'netCDF4._netCDF4.Variable'>\n",
            "int16 t2m(time, expver, latitude, longitude)\n",
            "    scale_factor: 0.000644746879673218\n",
            "    add_offset: 277.6509227437477\n",
            "    _FillValue: -32767\n",
            "    missing_value: -32767\n",
            "    units: K\n",
            "    long_name: 2 metre temperature\n",
            "unlimited dimensions: \n",
            "current shape = (87672, 2, 1, 1)\n",
            "filling on\n"
          ]
        }
      ],
      "source": [
        "# Load temperature data\n",
        "tempt = df.variables['t2m'] # temperature variable\n",
        "print(tempt)"
      ]
    },
    {
      "cell_type": "code",
      "execution_count": null,
      "metadata": {
        "colab": {
          "base_uri": "https://localhost:8080/"
        },
        "id": "vvou_whH_pXW",
        "outputId": "eef8513c-8803-4723-a237-dfaac1556306"
      },
      "outputs": [
        {
          "output_type": "execute_result",
          "data": {
            "text/plain": [
              "masked_array(data=[-0.3391920819591405, -0.4932865862010658,\n",
              "                   -0.36627145090540125, ..., --, --, --],\n",
              "             mask=[False, False, False, ...,  True,  True,  True],\n",
              "       fill_value=-32767)"
            ]
          },
          "metadata": {},
          "execution_count": 27
        }
      ],
      "source": [
        "# convert it to celcius\n",
        "tempt = df['t2m'][:,0,0,0]-273.15\n",
        "tempt"
      ]
    },
    {
      "cell_type": "code",
      "execution_count": null,
      "metadata": {
        "colab": {
          "base_uri": "https://localhost:8080/"
        },
        "id": "rbmEtGnP__rd",
        "outputId": "a49737e5-fdf6-46ec-b634-dc09fa5481fc"
      },
      "outputs": [
        {
          "output_type": "execute_result",
          "data": {
            "text/plain": [
              "744"
            ]
          },
          "metadata": {},
          "execution_count": 28
        }
      ],
      "source": [
        "#number of missing data point\n",
        "np.sum([int(i) for i in tempt.mask])"
      ]
    },
    {
      "cell_type": "code",
      "execution_count": null,
      "metadata": {
        "colab": {
          "base_uri": "https://localhost:8080/",
          "height": 283
        },
        "id": "F5AFwh5lHAMI",
        "outputId": "03ea6651-675b-4b52-be98-f3ff1ba7e0e1"
      },
      "outputs": [
        {
          "output_type": "execute_result",
          "data": {
            "text/plain": [
              "[<matplotlib.lines.Line2D at 0x7ff53eac8d00>]"
            ]
          },
          "metadata": {},
          "execution_count": 29
        },
        {
          "output_type": "display_data",
          "data": {
            "text/plain": [
              "<Figure size 432x288 with 1 Axes>"
            ],
            "image/png": "[encoded data removed]"
          },
          "metadata": {
            "needs_background": "light"
          }
        }
      ],
      "source": [
        "plt.plot(tempt)"
      ]
    },
    {
      "cell_type": "markdown",
      "metadata": {
        "id": "b3twQ6HMpmop"
      },
      "source": [
        "# 2(f) \n",
        "**Experiment with the number of input steps for your model to predict the temperature for the next 6 hours, e.g. using the past 6 hours, the past 12 hours or the past 24 hours**."
      ]
    },
    {
      "cell_type": "code",
      "execution_count": null,
      "metadata": {
        "id": "PVmwV9sbayFm"
      },
      "outputs": [],
      "source": [
        "past_history = 12\n",
        "future_target = 6"
      ]
    },
    {
      "cell_type": "markdown",
      "metadata": {
        "id": "nn2d4Monfq1E"
      },
      "source": [
        "# 2(b) \n",
        "**Training and testing data. Use 80% of the data for training and 20% of the data for testing. Since the data represents a time series, which has a natural ordering, be careful how you split and/or shuffle the data.**"
      ]
    },
    {
      "cell_type": "markdown",
      "metadata": {
        "id": "MuTqXJOPHZQX"
      },
      "source": [
        "### Split Data: 80% of the data used for training and 20% for validation."
      ]
    },
    {
      "cell_type": "code",
      "execution_count": null,
      "metadata": {
        "colab": {
          "base_uri": "https://localhost:8080/"
        },
        "id": "HCb4kC5nHQPq",
        "outputId": "806b7493-1eb4-4a34-ab93-d83502458bb0"
      },
      "outputs": [
        {
          "output_type": "stream",
          "name": "stdout",
          "text": [
            "70137\n"
          ]
        }
      ],
      "source": [
        "TRAIN_SPLIT = int(0.8*len(tempt))\n",
        "print(TRAIN_SPLIT)"
      ]
    },
    {
      "cell_type": "markdown",
      "metadata": {
        "id": "CsYJt0WDHWUa"
      },
      "source": [
        "### Generate Data Samples"
      ]
    },
    {
      "cell_type": "code",
      "execution_count": null,
      "metadata": {
        "id": "_hp5xdHeIKjb"
      },
      "outputs": [],
      "source": [
        "import numpy as np\n",
        "\n",
        "def generate_samples(dataset, target, start_index, end_index, history_size, target_size, step, single_step = False):\n",
        "    data = []\n",
        "    labels = []\n",
        "    start_index = start_index + history_size\n",
        "    if end_index is None:\n",
        "        end_index = len(dataset) - target_size\n",
        "\n",
        "    for i in range(start_index, end_index):\n",
        "      # Define the indices of the window\n",
        "      indices = range(i-history_size, i, step)\n",
        "      data.append(dataset[indices])\n",
        "\n",
        "      if single_step:\n",
        "        labels.append(target[i + target_size])\n",
        "      else:\n",
        "        labels.append(target[i: i + target_size]) \n",
        "    return np.array(data), np.array(labels)"
      ]
    },
    {
      "cell_type": "code",
      "execution_count": null,
      "metadata": {
        "id": "ui9y5GUNIr7C"
      },
      "outputs": [],
      "source": [
        "STEP = 1\n",
        "\n",
        "#training samples\n",
        "x_train, y_train = generate_samples(tempt, tempt, 0, TRAIN_SPLIT, past_history, future_target, STEP)\n",
        "\n",
        "#test samples\n",
        "x_test, y_test = generate_samples(tempt, tempt, TRAIN_SPLIT, None, past_history, future_target, STEP)"
      ]
    },
    {
      "cell_type": "code",
      "execution_count": null,
      "metadata": {
        "colab": {
          "base_uri": "https://localhost:8080/"
        },
        "id": "N_SfmX0gErUI",
        "outputId": "cb780d00-0155-4fe3-b0e6-1b4864516a63"
      },
      "outputs": [
        {
          "output_type": "stream",
          "name": "stdout",
          "text": [
            "(70125, 6)\n"
          ]
        }
      ],
      "source": [
        "print(y_train.shape)"
      ]
    },
    {
      "cell_type": "code",
      "execution_count": null,
      "metadata": {
        "colab": {
          "base_uri": "https://localhost:8080/"
        },
        "id": "Sw_3oF3FVyQY",
        "outputId": "4a80d634-5578-4d08-92c5-9726f3e68658"
      },
      "outputs": [
        {
          "output_type": "stream",
          "name": "stdout",
          "text": [
            "(17517, 6)\n"
          ]
        }
      ],
      "source": [
        "print(y_test.shape)"
      ]
    },
    {
      "cell_type": "markdown",
      "metadata": {
        "id": "5rSQA7DS_ZRt"
      },
      "source": [
        "# 2(a) \n",
        "**Develop suitable baseline models. The simplest baseline for a prediction task like this is the so-called persistence prediction: You simply assume that the temperature for the next 6 hours will be the same as the last observed temperature. A second baseline is a simple linear regression model.**"
      ]
    },
    {
      "cell_type": "markdown",
      "metadata": {
        "id": "CYR2uLot_lyM"
      },
      "source": [
        "**simplest baseline**"
      ]
    },
    {
      "cell_type": "code",
      "execution_count": null,
      "metadata": {
        "colab": {
          "base_uri": "https://localhost:8080/"
        },
        "id": "XiPP1FdJmlMY",
        "outputId": "d920f34d-1aaf-4815-fa25-397997203e75"
      },
      "outputs": [
        {
          "output_type": "stream",
          "name": "stdout",
          "text": [
            "MAE of persistence prediction model: 31385.25\n"
          ]
        }
      ],
      "source": [
        "# persistence prediction model\n",
        "def persistence_predict(history):\n",
        "    return history[-future_target:]\n",
        "\n",
        "# get the last future_target values of the training data\n",
        "last_train_temp = tempt[TRAIN_SPLIT-past_history:]\n",
        "\n",
        "# predict using the persistence prediction model\n",
        "y_pred_persistence = []\n",
        "for i in range(len(y_test)):\n",
        "    y_pred_persistence.append(persistence_predict(last_train_temp))\n",
        "    last_train_temp = np.append(last_train_temp[1:], y_pred_persistence[-1])\n",
        "\n",
        "# calculate the mean absolute error\n",
        "mae_persistence = tf.keras.metrics.mean_absolute_error(y_test, y_pred_persistence).numpy()\n",
        "#print('MAE of persistence prediction model: {:.2f}'.format(mae_persistence.item()))\n",
        "print('MAE of persistence prediction model: {:.2f}'.format(np.mean(mae_persistence)))\n"
      ]
    },
    {
      "cell_type": "markdown",
      "metadata": {
        "id": "LCv1l2GJ_s3Y"
      },
      "source": [
        "**A second baseline is a simple linear regression model.**"
      ]
    },
    {
      "cell_type": "code",
      "execution_count": null,
      "metadata": {
        "colab": {
          "base_uri": "https://localhost:8080/"
        },
        "id": "6HcWvSugEqsS",
        "outputId": "ab6e0f92-480e-482f-af14-f2d4f9b0bfc0"
      },
      "outputs": [
        {
          "output_type": "stream",
          "name": "stdout",
          "text": [
            "MAE of linear regression model: 35.94\n"
          ]
        }
      ],
      "source": [
        "from sklearn.linear_model import LinearRegression\n",
        "# create and fit the model\n",
        "lr_model = LinearRegression()\n",
        "lr_model.fit(x_train, y_train)\n",
        "\n",
        "# predict using the linear regression model\n",
        "y_pred_lr = lr_model.predict(x_test)\n",
        "\n",
        "# calculate the mean absolute error\n",
        "mae_lr = tf.keras.metrics.mean_absolute_error(y_test, y_pred_lr).numpy()\n",
        "print('MAE of linear regression model: {:.2f}'.format(np.mean(mae_lr)))\n",
        "#print('MAE of linear regression model: {:.2f}'.format(mae_lr))"
      ]
    },
    {
      "cell_type": "markdown",
      "metadata": {
        "id": "CtPpRz0mKXBD"
      },
      "source": [
        "#MLP"
      ]
    },
    {
      "cell_type": "code",
      "execution_count": null,
      "metadata": {
        "id": "ek7SNlAQV64N"
      },
      "outputs": [],
      "source": [
        "# Normalize the Data\n",
        "train_max = np.max(x_train)\n",
        "train_min = np.min(x_train)\n",
        "\n",
        "x_train = (x_train - train_min)/(train_max - train_min)\n",
        "x_test = (x_test - train_min)/(train_max - train_min)\n",
        "y_train = (y_train - train_min)/(train_max - train_min)\n",
        "y_test = (y_test - train_min)/(train_max - train_min)"
      ]
    },
    {
      "cell_type": "code",
      "execution_count": null,
      "metadata": {
        "colab": {
          "base_uri": "https://localhost:8080/"
        },
        "id": "kr1JjYHZn-bY",
        "outputId": "6e5100f2-c2ad-4f72-e141-f4d1008b9e14"
      },
      "outputs": [
        {
          "output_type": "stream",
          "name": "stdout",
          "text": [
            "(16000, 12)\n",
            "(16000, 6)\n"
          ]
        }
      ],
      "source": [
        "# drop the last part of the dataset to avoid missing values\n",
        "x_test = x_test[:16000]\n",
        "y_test = y_test[:16000]\n",
        "print(x_test.shape)\n",
        "print(y_test.shape)"
      ]
    },
    {
      "cell_type": "markdown",
      "metadata": {
        "id": "p9Xv1uRSo9Zi"
      },
      "source": [
        "### Define and Train MLP model"
      ]
    },
    {
      "cell_type": "code",
      "execution_count": null,
      "metadata": {
        "colab": {
          "base_uri": "https://localhost:8080/"
        },
        "id": "5AguoUHSo7_5",
        "outputId": "41ba8661-cb82-4819-c5c5-cfe00d0593ec"
      },
      "outputs": [
        {
          "output_type": "stream",
          "name": "stdout",
          "text": [
            "Model: \"model\"\n",
            "_________________________________________________________________\n",
            " Layer (type)                Output Shape              Param #   \n",
            "=================================================================\n",
            " input_1 (InputLayer)        [(None, 12)]              0         \n",
            "                                                                 \n",
            " dense (Dense)               (None, 128)               1664      \n",
            "                                                                 \n",
            " dense_1 (Dense)             (None, 128)               16512     \n",
            "                                                                 \n",
            " dense_2 (Dense)             (None, 6)                 774       \n",
            "                                                                 \n",
            "=================================================================\n",
            "Total params: 18,950\n",
            "Trainable params: 18,950\n",
            "Non-trainable params: 0\n",
            "_________________________________________________________________\n"
          ]
        }
      ],
      "source": [
        "inp = tf.keras.layers.Input(shape=(past_history,))\n",
        "b = tf.keras.layers.Dense(units = 128, activation = 'relu')(inp)\n",
        "b = tf.keras.layers.Dense(units = 128, activation = 'relu')(b)\n",
        "outp = tf.keras.layers.Dense(future_target, activation = 'linear')(b)\n",
        "\n",
        "model = tf.keras.models.Model(inp, outp)\n",
        "model.summary()"
      ]
    },
    {
      "cell_type": "markdown",
      "metadata": {
        "id": "PTJdvypMs4er"
      },
      "source": [
        "### Compile the model"
      ]
    },
    {
      "cell_type": "code",
      "execution_count": null,
      "metadata": {
        "id": "zLfnrt7Ks7fD"
      },
      "outputs": [],
      "source": [
        "model.compile(optimizer = 'adam', loss = 'mse', metrics = ['mse'])"
      ]
    },
    {
      "cell_type": "code",
      "execution_count": null,
      "metadata": {
        "colab": {
          "base_uri": "https://localhost:8080/"
        },
        "id": "q5RTzJLSy9Uf",
        "outputId": "29aacdd5-7b34-4a21-e251-21e64931c446"
      },
      "outputs": [
        {
          "output_type": "stream",
          "name": "stdout",
          "text": [
            "Epoch 1/20\n",
            "987/987 [==============================] - 4s 4ms/step - loss: 0.0027 - mse: 0.0027 - val_loss: 0.0016 - val_mse: 0.0016\n",
            "Epoch 2/20\n",
            "987/987 [==============================] - 3s 3ms/step - loss: 0.0014 - mse: 0.0014 - val_loss: 0.0016 - val_mse: 0.0016\n",
            "Epoch 3/20\n",
            "987/987 [==============================] - 2s 2ms/step - loss: 0.0013 - mse: 0.0013 - val_loss: 0.0013 - val_mse: 0.0013\n",
            "Epoch 4/20\n",
            "987/987 [==============================] - 2s 2ms/step - loss: 0.0013 - mse: 0.0013 - val_loss: 0.0014 - val_mse: 0.0014\n",
            "Epoch 5/20\n",
            "987/987 [==============================] - 3s 3ms/step - loss: 0.0012 - mse: 0.0012 - val_loss: 0.0012 - val_mse: 0.0012\n",
            "Epoch 6/20\n",
            "987/987 [==============================] - 3s 3ms/step - loss: 0.0012 - mse: 0.0012 - val_loss: 0.0012 - val_mse: 0.0012\n",
            "Epoch 7/20\n",
            "987/987 [==============================] - 4s 4ms/step - loss: 0.0012 - mse: 0.0012 - val_loss: 0.0016 - val_mse: 0.0016\n",
            "Epoch 8/20\n",
            "987/987 [==============================] - 2s 2ms/step - loss: 0.0012 - mse: 0.0012 - val_loss: 0.0012 - val_mse: 0.0012\n",
            "Epoch 9/20\n",
            "987/987 [==============================] - 3s 3ms/step - loss: 0.0012 - mse: 0.0012 - val_loss: 0.0013 - val_mse: 0.0013\n",
            "Epoch 10/20\n",
            "987/987 [==============================] - 2s 2ms/step - loss: 0.0012 - mse: 0.0012 - val_loss: 0.0015 - val_mse: 0.0015\n",
            "Epoch 11/20\n",
            "987/987 [==============================] - 3s 3ms/step - loss: 0.0012 - mse: 0.0012 - val_loss: 0.0013 - val_mse: 0.0013\n",
            "Epoch 12/20\n",
            "987/987 [==============================] - 4s 4ms/step - loss: 0.0012 - mse: 0.0012 - val_loss: 0.0012 - val_mse: 0.0012\n",
            "Epoch 13/20\n",
            "987/987 [==============================] - 3s 3ms/step - loss: 0.0012 - mse: 0.0012 - val_loss: 0.0012 - val_mse: 0.0012\n",
            "Epoch 14/20\n",
            "987/987 [==============================] - 2s 2ms/step - loss: 0.0012 - mse: 0.0012 - val_loss: 0.0011 - val_mse: 0.0011\n",
            "Epoch 15/20\n",
            "987/987 [==============================] - 2s 2ms/step - loss: 0.0012 - mse: 0.0012 - val_loss: 0.0012 - val_mse: 0.0012\n",
            "Epoch 16/20\n",
            "987/987 [==============================] - 2s 2ms/step - loss: 0.0012 - mse: 0.0012 - val_loss: 0.0012 - val_mse: 0.0012\n",
            "Epoch 17/20\n",
            "987/987 [==============================] - 4s 4ms/step - loss: 0.0012 - mse: 0.0012 - val_loss: 0.0011 - val_mse: 0.0011\n",
            "Epoch 18/20\n",
            "987/987 [==============================] - 3s 3ms/step - loss: 0.0012 - mse: 0.0012 - val_loss: 0.0012 - val_mse: 0.0012\n",
            "Epoch 19/20\n",
            "987/987 [==============================] - 2s 2ms/step - loss: 0.0012 - mse: 0.0012 - val_loss: 0.0012 - val_mse: 0.0012\n",
            "Epoch 20/20\n",
            "987/987 [==============================] - 3s 3ms/step - loss: 0.0012 - mse: 0.0012 - val_loss: 0.0012 - val_mse: 0.0012\n"
          ]
        }
      ],
      "source": [
        "history = model.fit(x_train, y_train, batch_size = 64, epochs = 20, validation_split = 0.1)"
      ]
    },
    {
      "cell_type": "code",
      "execution_count": null,
      "metadata": {
        "id": "VkxpwsiWuI4E"
      },
      "outputs": [],
      "source": [
        "def plot_train_history(history, title):\n",
        "  loss = history.history['loss']\n",
        "  val_loss = history.history['val_loss']\n",
        "\n",
        "  epochs = range(len(loss))\n",
        "  \n",
        "  plt.figure()\n",
        "\n",
        "  plt.semilogy(epochs, loss, 'b', label = 'Training Loss')\n",
        "  plt.semilogy(epochs, val_loss, 'r', label = 'Validation Loss')\n",
        "  plt.title(title)\n",
        "  plt.legend()\n",
        "  \n",
        "  plt.show()"
      ]
    },
    {
      "cell_type": "code",
      "execution_count": null,
      "metadata": {
        "colab": {
          "base_uri": "https://localhost:8080/",
          "height": 281
        },
        "id": "tRqVNY-fwj03",
        "outputId": "7c2ad3fd-d60f-4d99-c04c-e0c89009a516"
      },
      "outputs": [
        {
          "output_type": "display_data",
          "data": {
            "text/plain": [
              "<Figure size 432x288 with 1 Axes>"
            ],
            "image/png": "[encoded data removed]"
          },
          "metadata": {
            "needs_background": "light"
          }
        }
      ],
      "source": [
        "plot_train_history(history, 'Training and Validation Loss')"
      ]
    },
    {
      "cell_type": "markdown",
      "metadata": {
        "id": "YsIiqlZhmf9R"
      },
      "source": [
        "# 2(c) \n",
        "**Experiment with various hyperparameter for your neural network model, e.g. varying the number of hidden layers, units per layer, activation functions, etc.**"
      ]
    },
    {
      "cell_type": "markdown",
      "metadata": {
        "id": "te2V1BIimx_7"
      },
      "source": [
        "**Define and Train MLP model**"
      ]
    },
    {
      "cell_type": "code",
      "execution_count": null,
      "metadata": {
        "colab": {
          "base_uri": "https://localhost:8080/"
        },
        "id": "6JopMg4nmpEW",
        "outputId": "83035690-e7d2-49d1-d824-7cb4732ead64"
      },
      "outputs": [
        {
          "output_type": "stream",
          "name": "stdout",
          "text": [
            "Model: \"model_1\"\n",
            "_________________________________________________________________\n",
            " Layer (type)                Output Shape              Param #   \n",
            "=================================================================\n",
            " input_2 (InputLayer)        [(None, 12)]              0         \n",
            "                                                                 \n",
            " dense_3 (Dense)             (None, 512)               6656      \n",
            "                                                                 \n",
            " dense_4 (Dense)             (None, 256)               131328    \n",
            "                                                                 \n",
            " dense_5 (Dense)             (None, 6)                 1542      \n",
            "                                                                 \n",
            "=================================================================\n",
            "Total params: 139,526\n",
            "Trainable params: 139,526\n",
            "Non-trainable params: 0\n",
            "_________________________________________________________________\n"
          ]
        }
      ],
      "source": [
        "inp1 = tf.keras.layers.Input(shape=(past_history,))\n",
        "b1 = tf.keras.layers.Dense(units = 512, activation = 'sigmoid')(inp1)\n",
        "b1 = tf.keras.layers.Dense(units = 256, activation = 'sigmoid')(b1)\n",
        "outp1 = tf.keras.layers.Dense(future_target, activation = 'softmax')(b1)\n",
        "\n",
        "model1 = tf.keras.models.Model(inp1, outp1)\n",
        "model1.summary()"
      ]
    },
    {
      "cell_type": "markdown",
      "metadata": {
        "id": "Hn6s3HOmm7Sk"
      },
      "source": [
        "**Compile the model**"
      ]
    },
    {
      "cell_type": "code",
      "execution_count": null,
      "metadata": {
        "id": "tYx8EvpLm1g2"
      },
      "outputs": [],
      "source": [
        "model1.compile(optimizer = 'adam', loss = 'mse', metrics = ['mse'])"
      ]
    },
    {
      "cell_type": "code",
      "execution_count": null,
      "metadata": {
        "colab": {
          "base_uri": "https://localhost:8080/"
        },
        "id": "FiLlTu6Km_gl",
        "outputId": "2af2434f-bbe0-4f2e-e6ee-c1daa03e33f1"
      },
      "outputs": [
        {
          "output_type": "stream",
          "name": "stdout",
          "text": [
            "Epoch 1/20\n",
            "987/987 [==============================] - 9s 8ms/step - loss: 0.1600 - mse: 0.1600 - val_loss: 0.1857 - val_mse: 0.1857\n",
            "Epoch 2/20\n",
            "987/987 [==============================] - 6s 6ms/step - loss: 0.1599 - mse: 0.1599 - val_loss: 0.1857 - val_mse: 0.1857\n",
            "Epoch 3/20\n",
            "987/987 [==============================] - 9s 9ms/step - loss: 0.1599 - mse: 0.1599 - val_loss: 0.1857 - val_mse: 0.1857\n",
            "Epoch 4/20\n",
            "987/987 [==============================] - 6s 6ms/step - loss: 0.1599 - mse: 0.1599 - val_loss: 0.1857 - val_mse: 0.1857\n",
            "Epoch 5/20\n",
            "987/987 [==============================] - 10s 10ms/step - loss: 0.1599 - mse: 0.1599 - val_loss: 0.1857 - val_mse: 0.1857\n",
            "Epoch 6/20\n",
            "987/987 [==============================] - 6s 6ms/step - loss: 0.1599 - mse: 0.1599 - val_loss: 0.1856 - val_mse: 0.1856\n",
            "Epoch 7/20\n",
            "987/987 [==============================] - 8s 8ms/step - loss: 0.1599 - mse: 0.1599 - val_loss: 0.1856 - val_mse: 0.1856\n",
            "Epoch 8/20\n",
            "987/987 [==============================] - 6s 6ms/step - loss: 0.1599 - mse: 0.1599 - val_loss: 0.1857 - val_mse: 0.1857\n",
            "Epoch 9/20\n",
            "987/987 [==============================] - 8s 8ms/step - loss: 0.1599 - mse: 0.1599 - val_loss: 0.1856 - val_mse: 0.1856\n",
            "Epoch 10/20\n",
            "987/987 [==============================] - 6s 6ms/step - loss: 0.1599 - mse: 0.1599 - val_loss: 0.1856 - val_mse: 0.1856\n",
            "Epoch 11/20\n",
            "987/987 [==============================] - 8s 8ms/step - loss: 0.1599 - mse: 0.1599 - val_loss: 0.1856 - val_mse: 0.1856\n",
            "Epoch 12/20\n",
            "987/987 [==============================] - 6s 6ms/step - loss: 0.1599 - mse: 0.1599 - val_loss: 0.1856 - val_mse: 0.1856\n",
            "Epoch 13/20\n",
            "987/987 [==============================] - 7s 7ms/step - loss: 0.1599 - mse: 0.1599 - val_loss: 0.1856 - val_mse: 0.1856\n",
            "Epoch 14/20\n",
            "987/987 [==============================] - 7s 7ms/step - loss: 0.1599 - mse: 0.1599 - val_loss: 0.1856 - val_mse: 0.1856\n",
            "Epoch 15/20\n",
            "987/987 [==============================] - 7s 7ms/step - loss: 0.1599 - mse: 0.1599 - val_loss: 0.1856 - val_mse: 0.1856\n",
            "Epoch 16/20\n",
            "987/987 [==============================] - 7s 7ms/step - loss: 0.1599 - mse: 0.1599 - val_loss: 0.1856 - val_mse: 0.1856\n",
            "Epoch 17/20\n",
            "987/987 [==============================] - 7s 7ms/step - loss: 0.1599 - mse: 0.1599 - val_loss: 0.1856 - val_mse: 0.1856\n",
            "Epoch 18/20\n",
            "987/987 [==============================] - 7s 7ms/step - loss: 0.1599 - mse: 0.1599 - val_loss: 0.1857 - val_mse: 0.1857\n",
            "Epoch 19/20\n",
            "987/987 [==============================] - 6s 6ms/step - loss: 0.1599 - mse: 0.1599 - val_loss: 0.1857 - val_mse: 0.1857\n",
            "Epoch 20/20\n",
            "987/987 [==============================] - 8s 8ms/step - loss: 0.1599 - mse: 0.1599 - val_loss: 0.1856 - val_mse: 0.1856\n"
          ]
        }
      ],
      "source": [
        "history1 = model1.fit(x_train, y_train, batch_size = 64, epochs = 20, validation_split = 0.1)"
      ]
    },
    {
      "cell_type": "code",
      "execution_count": null,
      "metadata": {
        "id": "nuIgXPXfnFPC"
      },
      "outputs": [],
      "source": [
        "def plot_train_history(history, title):\n",
        "    loss = history.history['loss']\n",
        "    val_loss = history.history['val_loss']\n",
        "\n",
        "    epochs = range(len(loss))\n",
        "\n",
        "    plt.figure()\n",
        "\n",
        "    plt.semilogy(epochs, loss, 'b', label='Training Loss')\n",
        "    plt.semilogy(epochs, val_loss, 'r', label='Validation Loss')\n",
        "    plt.title(title)\n",
        "    plt.legend()\n",
        "\n",
        "    plt.show()"
      ]
    },
    {
      "cell_type": "code",
      "execution_count": null,
      "metadata": {
        "colab": {
          "base_uri": "https://localhost:8080/",
          "height": 281
        },
        "id": "RkuT-W4knLMv",
        "outputId": "5c80f95f-a37e-4e19-90b5-127af904d245"
      },
      "outputs": [
        {
          "output_type": "display_data",
          "data": {
            "text/plain": [
              "<Figure size 432x288 with 1 Axes>"
            ],
            "image/png": "[encoded data removed]"
          },
          "metadata": {
            "needs_background": "light"
          }
        }
      ],
      "source": [
        "plot_train_history(history1, 'Training and Validation Loss')"
      ]
    },
    {
      "cell_type": "markdown",
      "metadata": {
        "id": "4y0Dxh7ynt0C"
      },
      "source": [
        "# (d) Visualize some of the predictions from the two baseline models and the feedforward NN model, along with the true labels."
      ]
    },
    {
      "cell_type": "code",
      "execution_count": null,
      "metadata": {
        "id": "Ig_INQxs4ZJp"
      },
      "outputs": [],
      "source": [
        "from sklearn.linear_model import LinearRegression\n",
        "\n",
        "lm = LinearRegression()\n",
        "lm.fit(x_train, y_train)\n",
        "\n",
        "lm_pred = lm.predict(x_test)"
      ]
    },
    {
      "cell_type": "markdown",
      "metadata": {
        "id": "qBXIdSzx44gM"
      },
      "source": [
        "### Prediction on test dataset for MLP, Linear Model and Persistence"
      ]
    },
    {
      "cell_type": "code",
      "source": [
        "past_history = 12\n",
        "future_target = 6"
      ],
      "metadata": {
        "id": "g1NUk_cOjT4F"
      },
      "execution_count": null,
      "outputs": []
    },
    {
      "cell_type": "code",
      "execution_count": null,
      "metadata": {
        "colab": {
          "base_uri": "https://localhost:8080/"
        },
        "id": "yljN3TkN4109",
        "outputId": "b740bf51-71cd-4246-f576-6bce33e41284"
      },
      "outputs": [
        {
          "output_type": "stream",
          "name": "stdout",
          "text": [
            "500/500 [==============================] - 1s 1ms/step\n"
          ]
        }
      ],
      "source": [
        "# Prediction on test datasets for MLP\n",
        "mlp_pred = model.predict(x_test)\n",
        "\n",
        "# Prediction on test datasets for Linear\n",
        "lm_pred = lm.predict(x_test)\n",
        "\n",
        "# Persistence Prediction\n",
        "pers_pred = np.repeat(np.expand_dims(x_test[:, past_history-1], axis = 1), future_target, axis = 1)"
      ]
    },
    {
      "cell_type": "markdown",
      "metadata": {
        "id": "chLLrDzA9DBK"
      },
      "source": [
        "### Plot the results\n"
      ]
    },
    {
      "cell_type": "markdown",
      "metadata": {
        "id": "9ycu4PlY9hDw"
      },
      "source": [
        "### Reverse the Normalization"
      ]
    },
    {
      "cell_type": "code",
      "execution_count": null,
      "metadata": {
        "id": "0ESuYDmz9H-0"
      },
      "outputs": [],
      "source": [
        "def plot_results(x, true_pred, lm_pred, pers_pred, mlp_pred, ix):\n",
        "\n",
        "\n",
        "  x = (train_max - train_min)*x + train_min\n",
        "  true_pred = (train_max - train_min)*true_pred + train_min\n",
        "  pers_pred = (train_max - train_min)*pers_pred + train_min\n",
        "  lm_pred = (train_max - train_min)*lm_pred + train_min\n",
        "  mlp_pred = (train_max - train_min)*mlp_pred + train_min\n",
        "\n",
        "# Input Data\n",
        "  plt.plot(np.arange(-past_history+1, 1), x[ix], 'k--')\n",
        "\n",
        "#Persistence Prediction\n",
        "  plt.plot(np.arange(1, future_target+1), pers_pred[ix], 'g')\n",
        "\n",
        "# MLP prediction\n",
        "  plt.plot(np.arange(1, future_target+1), mlp_pred[ix], 'b')\n",
        "\n",
        "#True Observed Future\n",
        "  plt.plot(np.arange(1, future_target+1), true_pred[ix], 'r')\n",
        "\n",
        "#Legend\n",
        "  plt.legend([\"Input Tempt\", \"Persistence\", \"Linear\", \"MLP\", \"True Tempt\"])\n",
        "  plt.grid()\n",
        "  plt.xlabel(\"Input [h]\")\n",
        "  plt.ylabel(\"Temperature [c]\")"
      ]
    },
    {
      "cell_type": "code",
      "execution_count": null,
      "metadata": {
        "colab": {
          "base_uri": "https://localhost:8080/",
          "height": 279
        },
        "id": "AiZkVNgNE-Ec",
        "outputId": "5bdceac6-9b61-4987-cc21-4f011493fc1c"
      },
      "outputs": [
        {
          "output_type": "display_data",
          "data": {
            "text/plain": [
              "<Figure size 432x288 with 1 Axes>"
            ],
            "image/png": "[encoded data removed]"
          },
          "metadata": {
            "needs_background": "light"
          }
        }
      ],
      "source": [
        "plot_results(x_test, y_test, pers_pred, lm_pred, mlp_pred, np.random.randint(0, len(y_test)))"
      ]
    },
    {
      "cell_type": "markdown",
      "metadata": {
        "id": "iqWgy9LRpUgP"
      },
      "source": [
        "# (e)Verify the models on the test dataset, using the mean squared error as verification metric. In particular, plot the mean squared error of the models as a function of the prediction time step."
      ]
    },
    {
      "cell_type": "markdown",
      "metadata": {
        "id": "TDa9-toCpYHi"
      },
      "source": [
        "#### MSE"
      ]
    },
    {
      "cell_type": "code",
      "execution_count": null,
      "metadata": {
        "colab": {
          "base_uri": "https://localhost:8080/",
          "height": 279
        },
        "id": "HdTl_TIUPyD7",
        "outputId": "59ae8f1e-00f5-4bc0-90f1-214582224acb"
      },
      "outputs": [
        {
          "output_type": "display_data",
          "data": {
            "text/plain": [
              "<Figure size 432x288 with 1 Axes>"
            ],
            "image/png": "[encoded data removed]"
          },
          "metadata": {
            "needs_background": "light"
          }
        }
      ],
      "source": [
        "pers_mse = np.zeros(future_target)\n",
        "lm_mse = np.zeros(future_target)\n",
        "mlp_mse = np.zeros(future_target)\n",
        "\n",
        "for i in range(future_target):\n",
        "  pers_mse[i] = np.mean(np.square(y_test[:, i] - pers_pred[:, i]))\n",
        "  lm_mse[i] = np.mean(np.square(y_test[:, i] - lm_pred[:, i]))\n",
        "  mlp_mse[i] = np.mean(np.square(y_test[:, i] - mlp_pred[:, i]))\n",
        "\n",
        "plt.plot(np.arange(1, future_target+1), pers_mse*(train_max - train_min)**2)\n",
        "plt.plot(np.arange(1, future_target+1), lm_mse*(train_max - train_min)**2)\n",
        "plt.plot(np.arange(1, future_target+1), mlp_mse*(train_max - train_min)**2)\n",
        "\n",
        "plt.legend([\"Persistence\", \"Linear\", \"MLP\"])\n",
        "plt.xlabel(\"Persistence Step [h]\")\n",
        "plt.ylabel(\"MSE\")\n",
        "plt.grid()"
      ]
    },
    {
      "cell_type": "code",
      "source": [
        "print(lm_mse)"
      ],
      "metadata": {
        "colab": {
          "base_uri": "https://localhost:8080/"
        },
        "id": "DeJ6ustXVK42",
        "outputId": "80750ec4-a2f4-4ae5-fec1-16ddac7273d7"
      },
      "execution_count": null,
      "outputs": [
        {
          "output_type": "stream",
          "name": "stdout",
          "text": [
            "[0.00014902 0.00039705 0.00077099 0.00124622 0.001847   0.00245145]\n"
          ]
        }
      ]
    },
    {
      "cell_type": "code",
      "source": [
        "print(mlp_mse)"
      ],
      "metadata": {
        "colab": {
          "base_uri": "https://localhost:8080/"
        },
        "id": "L8AE0isLVOao",
        "outputId": "a4a72df4-50cb-4688-d6b0-5fb867069e50"
      },
      "execution_count": null,
      "outputs": [
        {
          "output_type": "stream",
          "name": "stdout",
          "text": [
            "[0.00017722 0.00039673 0.00071945 0.00113379 0.00165975 0.00217545]\n"
          ]
        }
      ]
    },
    {
      "cell_type": "markdown",
      "metadata": {
        "id": "IKzCkwXKg8X9"
      },
      "source": [
        "# 2(g) \n",
        "**(g) Can your feedforward neural network models beat the two baselines consistently?**"
      ]
    },
    {
      "cell_type": "code",
      "source": [
        "print(pers_mse*100)"
      ],
      "metadata": {
        "colab": {
          "base_uri": "https://localhost:8080/"
        },
        "id": "SNXYRFiJVGSn",
        "outputId": "50038462-25a4-489a-8a09-70d16306c41e"
      },
      "execution_count": null,
      "outputs": [
        {
          "output_type": "stream",
          "name": "stdout",
          "text": [
            "[0.02068493 0.0617914  0.1196825  0.18882262 0.26759176 0.34737999]\n"
          ]
        }
      ]
    },
    {
      "cell_type": "code",
      "source": [
        "print(lm_mse*100)"
      ],
      "metadata": {
        "colab": {
          "base_uri": "https://localhost:8080/"
        },
        "id": "Ua1rjKjBd0i9",
        "outputId": "4900c091-5e2e-4193-9a36-37715bd8884f"
      },
      "execution_count": null,
      "outputs": [
        {
          "output_type": "stream",
          "name": "stdout",
          "text": [
            "[0.01490214 0.03970518 0.07709869 0.12462168 0.18470013 0.24514525]\n"
          ]
        }
      ]
    },
    {
      "cell_type": "code",
      "source": [
        "print(mlp_mse*100)"
      ],
      "metadata": {
        "colab": {
          "base_uri": "https://localhost:8080/"
        },
        "id": "hDMD18Sqd0Ou",
        "outputId": "76c76e1a-b8a8-472a-c38b-413af4ec606d"
      },
      "execution_count": null,
      "outputs": [
        {
          "output_type": "stream",
          "name": "stdout",
          "text": [
            "[0.01772248 0.0396733  0.0719445  0.11337868 0.16597545 0.21754469]\n"
          ]
        }
      ]
    },
    {
      "cell_type": "markdown",
      "source": [
        "Based on the mean squared error (MSE), it appears that the feedforward neural network (mlp_mse) outperforms the persistence model (pers_mse) consistently, but it does not consistently outperform the linear model (lm_mse).\n",
        "\n",
        "For instance, looking at the first two data points, the MLP has a higher MSE than the linear model, while both models outperform the persistence model. However, for the remaining four data points, the MLP has a lower MSE than both the persistence model and the linear model.\n",
        "\n",
        "Therefore, while the feedforward neural network does appear to be a better model than the persistence model, it is not consistently better than the linear model. Further analysis and evaluation may be required to determine the overall best model for the specific task at hand. \n",
        "\n",
        "\n"
      ],
      "metadata": {
        "id": "9hgkShr9dC47"
      }
    }
  ],
  "metadata": {
    "colab": {
      "provenance": [],
      "mount_file_id": "1t8bpBH3Ut9OVFtPGO6a1RaxzBvifsXsg",
      "authorship_tag": "ABX9TyOGZTNgMWv8or/ioRVUwtC6",
      "include_colab_link": true
    },
    "kernelspec": {
      "display_name": "Python 3",
      "name": "python3"
    },
    "language_info": {
      "name": "python"
    }
  },
  "nbformat": 4,
  "nbformat_minor": 0
}